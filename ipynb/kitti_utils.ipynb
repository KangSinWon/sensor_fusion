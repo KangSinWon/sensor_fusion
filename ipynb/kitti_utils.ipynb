{
 "cells": [
  {
   "cell_type": "code",
   "execution_count": 66,
   "metadata": {},
   "outputs": [],
   "source": [
    "import numpy as np\n",
    "import cv2\n",
    "import matplotlib.pyplot as plt"
   ]
  },
  {
   "cell_type": "code",
   "execution_count": 67,
   "metadata": {},
   "outputs": [],
   "source": [
    "prj_dir = '/Users/kang-shinwon/dev/personal/sensor_fusion'\n",
    "calibs_dir = prj_dir + '/sample_data/calibs'\n",
    "lidar_dir = prj_dir + '/sample_data/points'\n",
    "image_dir = prj_dir + '/sample_data/images'"
   ]
  },
  {
   "cell_type": "code",
   "execution_count": 87,
   "metadata": {},
   "outputs": [],
   "source": [
    "# load pcd data \n",
    "points = np.fromfile(lidar_dir + '/000031.pcd', '<f4')\n",
    "points = np.reshape(points, (-1, 4))\n",
    "\n",
    "# load camera\n",
    "image = cv2.imread(image_dir + '/000031.png')\n",
    "\n",
    "# load calibration data\n",
    "calib_file = open(calibs_dir + '/000031.txt', 'r')\n",
    "calib_lines = calib_file.readlines()\n",
    "\n",
    "p0 = np.array(calib_lines[0].strip('\\n').split(' ')[1:], dtype=np.float32).reshape(3, 4)\n",
    "p1 = np.array(calib_lines[1].strip('\\n').split(' ')[1:], dtype=np.float32).reshape(3, 4)\n",
    "p2 = np.array(calib_lines[2].strip('\\n').split(' ')[1:], dtype=np.float32).reshape(3, 4)\n",
    "p3 = np.array(calib_lines[3].strip('\\n').split(' ')[1:], dtype=np.float32).reshape(3, 4)\n",
    "r0_rect = np.array(calib_lines[4].strip('\\n').split(' ')[1:], dtype=np.float32).reshape(3, 3)\n",
    "tr_velo_to_cam = np.array(calib_lines[5].strip('\\n').split(' ')[1:], dtype=np.float32).reshape(3, 4)\n",
    "tr_imu_to_velo = np.array(calib_lines[6].strip('\\n').split(' ')[1:], dtype=np.float32).reshape(3, 4)\n",
    "\n",
    "calib = {\n",
    "    'p0': p0,\n",
    "    'p1': p1,   \n",
    "    'p2': p2,\n",
    "    'p3': p3,\n",
    "    'r0_rect': r0_rect,\n",
    "    'tr_velo_to_cam': tr_velo_to_cam,\n",
    "    'tr_imu_to_velo': tr_imu_to_velo\n",
    "}"
   ]
  },
  {
   "cell_type": "code",
   "execution_count": 82,
   "metadata": {},
   "outputs": [
    {
     "name": "stdout",
     "output_type": "stream",
     "text": [
      "points: (363916,)\n",
      "[ 1.16853668e+10  8.12648447e+32  1.55159851e-19 ...  9.53472206e+20\n",
      " -1.68610879e+30  1.27104336e+11]\n",
      "image: (375, 1242, 3)\n",
      "[[[244 159 133]\n",
      "  [255 175 127]\n",
      "  [255 192 176]\n",
      "  ...\n",
      "  [ 69  91  72]\n",
      "  [ 66  93  71]\n",
      "  [ 62  95  75]]\n",
      "\n",
      " [[238 187 140]\n",
      "  [254 205 132]\n",
      "  [255 224 207]\n",
      "  ...\n",
      "  [ 72  82  49]\n",
      "  [ 74  83  58]\n",
      "  [ 78  87  75]]\n",
      "\n",
      " [[236 223 179]\n",
      "  [251 223 169]\n",
      "  [255 239 210]\n",
      "  ...\n",
      "  [ 81  88  74]\n",
      "  [ 88 108 103]\n",
      "  [ 92 129 152]]\n",
      "\n",
      " ...\n",
      "\n",
      " [[ 43  28  24]\n",
      "  [ 37  28  24]\n",
      "  [ 35  29  23]\n",
      "  ...\n",
      "  [ 36  58 255]\n",
      "  [ 35  58 255]\n",
      "  [ 36  58 255]]\n",
      "\n",
      " [[ 31  25  23]\n",
      "  [ 32  26  23]\n",
      "  [ 32  27  23]\n",
      "  ...\n",
      "  [ 40  56 255]\n",
      "  [ 41  58 255]\n",
      "  [ 40  59 255]]\n",
      "\n",
      " [[ 27  27  25]\n",
      "  [ 31  27  25]\n",
      "  [ 33  28  23]\n",
      "  ...\n",
      "  [ 40  56 255]\n",
      "  [ 42  57 255]\n",
      "  [ 42  58 255]]]\n",
      "calib:\n",
      " {'p0': array([[721.5377,   0.    , 609.5593,   0.    ],\n",
      "       [  0.    , 721.5377, 172.854 ,   0.    ],\n",
      "       [  0.    ,   0.    ,   1.    ,   0.    ]], dtype=float32), 'p1': array([[ 721.5377,    0.    ,  609.5593, -387.5744],\n",
      "       [   0.    ,  721.5377,  172.854 ,    0.    ],\n",
      "       [   0.    ,    0.    ,    1.    ,    0.    ]], dtype=float32), 'p2': array([[7.215377e+02, 0.000000e+00, 6.095593e+02, 4.485728e+01],\n",
      "       [0.000000e+00, 7.215377e+02, 1.728540e+02, 2.163791e-01],\n",
      "       [0.000000e+00, 0.000000e+00, 1.000000e+00, 2.745884e-03]],\n",
      "      dtype=float32), 'p3': array([[ 7.215377e+02,  0.000000e+00,  6.095593e+02, -3.395242e+02],\n",
      "       [ 0.000000e+00,  7.215377e+02,  1.728540e+02,  2.199936e+00],\n",
      "       [ 0.000000e+00,  0.000000e+00,  1.000000e+00,  2.729905e-03]],\n",
      "      dtype=float32), 'r0_rect': array([[ 0.9999239 ,  0.00983776, -0.00744505],\n",
      "       [-0.0098698 ,  0.9999421 , -0.00427846],\n",
      "       [ 0.00740253,  0.00435161,  0.9999631 ]], dtype=float32), 'tr_velo_to_cam': array([[ 7.533745e-03, -9.999714e-01, -6.166020e-04, -4.069766e-03],\n",
      "       [ 1.480249e-02,  7.280733e-04, -9.998902e-01, -7.631618e-02],\n",
      "       [ 9.998621e-01,  7.523790e-03,  1.480755e-02, -2.717806e-01]],\n",
      "      dtype=float32), 'tr_imu_to_velo': array([[ 9.999976e-01,  7.553071e-04, -2.035826e-03, -8.086759e-01],\n",
      "       [-7.854027e-04,  9.998898e-01, -1.482298e-02,  3.195559e-01],\n",
      "       [ 2.024406e-03,  1.482454e-02,  9.998881e-01, -7.997231e-01]],\n",
      "      dtype=float32)}\n"
     ]
    }
   ],
   "source": [
    "print('points: {}\\n{}'.format(points.shape, points))\n",
    "print('image: {}\\n{}'.format(image.shape, image))\n",
    "print('calib:\\n', calib)"
   ]
  },
  {
   "cell_type": "code",
   "execution_count": 3,
   "metadata": {},
   "outputs": [],
   "source": [
    "def lidar2cam():\n",
    "    pass\n",
    "\n",
    "def object_on_image():\n",
    "    pass\n",
    "\n",
    "def object_on_lidar():\n",
    "    pass\n",
    "\n",
    "def lidar2bev():\n",
    "    pass"
   ]
  },
  {
   "cell_type": "code",
   "execution_count": null,
   "metadata": {},
   "outputs": [],
   "source": []
  }
 ],
 "metadata": {
  "kernelspec": {
   "display_name": "Python 3",
   "language": "python",
   "name": "python3"
  },
  "language_info": {
   "codemirror_mode": {
    "name": "ipython",
    "version": 3
   },
   "file_extension": ".py",
   "mimetype": "text/x-python",
   "name": "python",
   "nbconvert_exporter": "python",
   "pygments_lexer": "ipython3",
   "version": "3.9.16"
  },
  "orig_nbformat": 4
 },
 "nbformat": 4,
 "nbformat_minor": 2
}
